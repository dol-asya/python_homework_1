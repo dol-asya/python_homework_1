{
  "nbformat": 4,
  "nbformat_minor": 0,
  "metadata": {
    "colab": {
      "name": "python_homework_№1.ipynb",
      "provenance": [],
      "toc_visible": true
    },
    "kernelspec": {
      "name": "python3",
      "display_name": "Python 3"
    },
    "language_info": {
      "name": "python"
    }
  },
  "cells": [
    {
      "cell_type": "markdown",
      "source": [
        "# 1.Logic"
      ],
      "metadata": {
        "id": "-OQrzXrigBOF"
      }
    },
    {
      "cell_type": "markdown",
      "source": [
        "## Task 1\n",
        "\n",
        "User wants to visit our shop and wants to know about possibility to do that and existing discount. Write a code that will ask current time (hours only), age and the gender of a user and will write \"**Closed**\" if user cannot visit our shop and \"**Opened. Discount is *DISCOUNT*%**\"\n",
        "Shop is opened from 9AM till 11PM.\n",
        "\n",
        "Availability and discounts of shop:\n",
        "\n",
        "|Time|Age|Gender|Discount|IsOpened\n",
        "|-|-|-|-|-\n",
        "|9-16|18|M|10%|True\n",
        "|9-16|18|F|0%|False\n",
        "|16-23|18|M|0%|False\n",
        "|16-23|18|F|10%|True\n",
        "|10-15|<18|M|20%|True\n",
        "|10-15|<18|F|20%|True\n",
        "|18-20|<18|M|5%|True\n",
        "|18-20|<18|F|5%|True\n",
        "\n",
        "Time ranges are not inclusive (if time range is 9-11 - the rules are applied to the following hour values: [9, 10])\n"
      ],
      "metadata": {
        "id": "dyxEgPswf7o8"
      }
    },
    {
      "cell_type": "code",
      "execution_count": null,
      "metadata": {
        "colab": {
          "base_uri": "https://localhost:8080/"
        },
        "id": "Q_WCqFlOfvGj",
        "outputId": "2c75d036-469b-44ea-ff5c-c802d6d06d4d"
      },
      "outputs": [
        {
          "output_type": "stream",
          "name": "stdout",
          "text": [
            "What is time?\n",
            "19\n",
            "How are old?\n",
            "17\n",
            "What is your gender?\n",
            "m\n",
            "Opened. Discount is 5%\n"
          ]
        }
      ],
      "source": [
        "time: int = int(input('What is time?\\n'))\n",
        "age: int = int(input('How are old?\\n'))\n",
        "gender: str = input('What is your gender?\\n')\n",
        "\n",
        "if age < 18:\n",
        "  if gender.lower() == 'm':\n",
        "    if time < 15 and time >= 10:\n",
        "      print('Opened. Discount is 20%')\n",
        "    elif time < 20 and time >= 18:\n",
        "      print('Opened. Discount is 5%')\n",
        "    else: print('Closed')\n",
        "  elif gender.lower() == 'f':\n",
        "    if time < 15 and time >= 10:\n",
        "      print('Opened. Discount is 20%')\n",
        "    elif time < 20 and time >= 18:\n",
        "      print('Opened. Discount is 5%')\n",
        "    else: print('Closed')\n",
        "elif age == 18:\n",
        "  if gender.lower() == 'm':\n",
        "    if time < 16 and time >= 9:\n",
        "      print('Opened. Discount is 10%')\n",
        "    elif time < 23 and time >= 16:\n",
        "      print('Closed')\n",
        "    else: print('Closed')\n",
        "  elif gender.lower() == 'f':\n",
        "    if time < 16 and time >= 9:\n",
        "      print('Closed')\n",
        "    elif time < 23 and time >= 16:\n",
        "      print('Opened. Discount is 10%')\n",
        "    else: print('Closed')\n",
        "else: print('Discount is not available')"
      ]
    },
    {
      "cell_type": "markdown",
      "source": [
        "## Task 2\n",
        "\n",
        "**Binary search** \n",
        "\n",
        "Ask user for number from 1 to 10 (inclusive), if user inputs wrong number - write \"**error**\". If user typed in a valid number - write a number from the middle of a known range and ask for comparsion (\"<\", \">\", \"=\") and perform further search if required.\n",
        "**TIP** Do not use loops if you are familiar with them"
      ],
      "metadata": {
        "id": "fo5QQOxNgt8c"
      }
    },
    {
      "cell_type": "code",
      "source": [
        "number: int = int(input('put your number from 1 to 10 (inclusive)\\n'))\n",
        "\n",
        "if number > 0 and number < 11:\n",
        "  middle: float = (10+1)/2\n",
        "  comparsion = input(f'put comparsion (\"<\", \">\", \"=\") so that compare with {middle}\\n')\n",
        "  if comparsion == '>':\n",
        "    print(number > middle)\n",
        "  elif comparsion == '<':\n",
        "    print(number < middle)\n",
        "  elif comparsion == '=':\n",
        "    print(number == middle)\n",
        "  else:\n",
        "    print('error')\n",
        "else:\n",
        "  print('error')"
      ],
      "metadata": {
        "colab": {
          "base_uri": "https://localhost:8080/"
        },
        "id": "ktc7L5PLgs96",
        "outputId": "690b443e-deb6-4b16-c30c-2b0d2493bb8f"
      },
      "execution_count": null,
      "outputs": [
        {
          "output_type": "stream",
          "name": "stdout",
          "text": [
            "put your number from 1 to 10 (inclusive)\n",
            "7\n",
            "put comparsion (\"<\", \">\", \"=\") so that compare with 5.5\n",
            "8\n",
            "error\n"
          ]
        }
      ]
    },
    {
      "cell_type": "markdown",
      "source": [
        "# 2.Bitwise"
      ],
      "metadata": {
        "id": "oPuRsUX0gJP0"
      }
    },
    {
      "cell_type": "markdown",
      "source": [
        "\n",
        "Implement flags for keeping weather state. We want to know, was it snowy / rainy / cloudy / hail / fog"
      ],
      "metadata": {
        "id": "rVWORiQtgKrV"
      }
    },
    {
      "cell_type": "code",
      "source": [
        "flag_weather: int = int(input('Put number from 0 to 31\\n'))\n",
        "snowy = 0b001\n",
        "rainy = 0b010\n",
        "cloudy = 0b100\n",
        "hail = 0b1000\n",
        "fog = 0b10000\n",
        "\n",
        "print(f'The flag of the weather flag is {bin(flag_weather)}\\n')\n",
        "\n",
        "if snowy & flag_weather:\n",
        "  print('It is snowing')\n",
        "if rainy & flag_weather:\n",
        "  print('It is rainy')\n",
        "if cloudy & flag_weather:\n",
        "  print('It is cloudy')\n",
        "if hail & flag_weather:\n",
        "  print('It is hailing')\n",
        "if fog & flag_weather:\n",
        "  print('It is foggy')\n",
        "if flag_weather == 0:\n",
        "  print('It seems, it is sunny')"
      ],
      "metadata": {
        "colab": {
          "base_uri": "https://localhost:8080/"
        },
        "id": "MRobyceogVCU",
        "outputId": "e7e46cf6-5a12-4edb-8056-ea499ff72068"
      },
      "execution_count": null,
      "outputs": [
        {
          "output_type": "stream",
          "name": "stdout",
          "text": [
            "Put number from 0 to 31\n",
            "4\n",
            "The flag of the weather flag is 0b100\n",
            "\n",
            "It is cloudy\n"
          ]
        }
      ]
    }
  ]
}